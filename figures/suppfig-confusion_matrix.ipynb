{
 "cells": [
  {
   "cell_type": "markdown",
   "metadata": {},
   "source": [
    "# Figures S5, S6, and S7 - Confusion matrices from isolated-target trial classifications"
   ]
  },
  {
   "cell_type": "code",
   "execution_count": null,
   "metadata": {},
   "outputs": [],
   "source": [
    "import os\n",
    "\n",
    "import pandas as pd\n",
    "import numpy as np\n",
    "import matplotlib.pyplot as plt\n",
    "import seaborn as sns\n",
    "\n",
    "from sklearn.metrics import confusion_matrix\n",
    "from silent_spelling.utils import plotting_defaults, bootstrap_confidence_intervals\n",
    "\n",
    "plotting_defaults(font='Arial')\n",
    "\n",
    "%load_ext autoreload\n",
    "%autoreload 2"
   ]
  },
  {
   "cell_type": "code",
   "execution_count": null,
   "metadata": {},
   "outputs": [],
   "source": [
    "fig_dir = 'saved_figures'\n",
    "load_from_RT = True\n",
    "save_to_excel = False\n",
    "\n",
    "plot_key = 'lfs_only'\n",
    "\n",
    "# Define the result file nums.\n",
    "result_nums = {\n",
    "    'hga_only': 89,\n",
    "    'lfs_only': 90,\n",
    "    'hga_and_lfs': 91\n",
    "}\n",
    "\n",
    "# The keys when using the source data excel file.\n",
    "source_data_keys = {\n",
    "    'hga_only': 'S5',\n",
    "    'lfs_only': 'S6',\n",
    "    'hga_and_lfs': 'S7'\n",
    "}\n",
    "\n",
    "# Name of the folder that contains result .pkl's\n",
    "result_folder_name = 'spelling_paper_signal_analyses'\n",
    "\n",
    "excel_filepath = os.path.join(os.path.split(os.getcwd())[0], 'source_data', 'source_data.xlsx')"
   ]
  },
  {
   "cell_type": "markdown",
   "metadata": {},
   "source": [
    "## Load data"
   ]
  },
  {
   "cell_type": "code",
   "execution_count": null,
   "metadata": {},
   "outputs": [],
   "source": [
    "if load_from_RT:\n",
    "    \n",
    "    # Custom software for file handling on Chang Lab systems\n",
    "    from RT.util import fileHandler, RTConfig\n",
    "    \n",
    "    result_path = fileHandler.getSubResultFilePath(\n",
    "        sub_dir_key='analysis',\n",
    "        result_label=result_folder_name,\n",
    "        sub_result_num=result_nums[plot_key]\n",
    "    )\n",
    "    mimed = pd.read_pickle(result_path)\n",
    "    \n",
    "    mimed_df = pd.DataFrame(np.stack(mimed['pred_vec'].values, axis=0), columns=range(27))\n",
    "    mimed_df['label'] = mimed['label'].values\n",
    "    mimed_df['cv'] = mimed['cv'].values\n",
    "    mimed_df['blocks'] = mimed['blocks'].values\n",
    "    \n",
    "    if save_to_excel:\n",
    "        \n",
    "        if os.path.exists(excel_filepath):\n",
    "            mode = 'a'\n",
    "        else:\n",
    "            mode = 'w'\n",
    "        \n",
    "        with pd.ExcelWriter(excel_filepath, mode=mode) as writer:  \n",
    "            mimed_df.to_excel(writer, sheet_name=f'Fig {source_data_keys[plot_key]}', index=False)\n",
    "            \n",
    "else:\n",
    "    \n",
    "    mimed_df = pd.read_excel(excel_filepath, sheet_name=f'Fig {source_data_keys[plot_key]}', engine='openpyxl')"
   ]
  },
  {
   "cell_type": "code",
   "execution_count": null,
   "metadata": {},
   "outputs": [],
   "source": [
    "# Make the confusion matrix\n",
    "pred = np.argmax(mimed_df.values[:, :-3], axis=-1)\n",
    "conf_matrix = confusion_matrix(pred, mimed_df['label'], normalize='true')\n",
    "mimed_df['pred_label'] = np.argmax(mimed_df.values[:, :-3], axis=-1)\n",
    "mimed_df['correct'] = mimed_df.pred_label == mimed_df.label\n",
    "\n",
    "cv_accs = []\n",
    "for cur_cv in range(10):\n",
    "    cur_df = mimed_df.loc[(mimed_df.cv == cur_cv)]\n",
    "    cv_accs.append(cur_df.correct.sum() / cur_df.shape[0])\n",
    "    \n",
    "print(f'For {plot_key}, including hand command')\n",
    "print(np.median(cv_accs))\n",
    "print(bootstrap_confidence_intervals(cv_accs))\n",
    "\n",
    "nato = ['Alpha', 'Bravo', 'Charlie', 'Delta', 'Echo', 'Foxtrot', 'Golf', 'Hotel', 'India', 'Juliet', 'Kilo', \n",
    "        'Lima','Mike', 'November', 'Oscar', 'Papa', 'Quebec','Romeo', 'Sierra', 'Tango', 'Uniform', 'Victor', \n",
    "        'Whiskey', 'X-Ray', 'Yankee', 'Zulu', 'Hand-attempt']\n",
    "df = pd.DataFrame(data=conf_matrix, columns=nato, index=nato)"
   ]
  },
  {
   "cell_type": "code",
   "execution_count": null,
   "metadata": {},
   "outputs": [],
   "source": [
    "fig = plt.figure(figsize=(10, 9), constrained_layout=True)\n",
    "gs = fig.add_gridspec(100, 100)\n",
    "ax = fig.add_subplot(gs[:, :80])\n",
    "cax = fig.add_subplot(gs[:, 97:])\n",
    "\n",
    "sns.heatmap(df, cbar_kws={\"shrink\": 0.3}, cmap='bone_r', ax=ax, cbar_ax=cax, vmin=0, vmax=1, xticklabels=True)\n",
    "ax.spines['bottom'].set_visible(True)\n",
    "ax.spines['top'].set_visible(True)\n",
    "ax.spines['right'].set_visible(True)\n",
    "ax.spines['left'].set_visible(True)\n",
    "ax.set_ylabel('Target', labelpad=10.0, fontsize='large')\n",
    "ax.set_xlabel('Predicted', labelpad=10.0, fontsize='large')\n",
    "\n",
    "cax.set_yticklabels(['{:<2g}'.format(float(i) * 100.) for i in cax.get_yticks()])\n",
    "cax.set_ylabel('Confusion value (%; normalized by row)', fontsize='large', labelpad=20.0, rotation=270);"
   ]
  },
  {
   "cell_type": "markdown",
   "metadata": {},
   "source": [
    "### Save figure"
   ]
  },
  {
   "cell_type": "code",
   "execution_count": null,
   "metadata": {},
   "outputs": [],
   "source": [
    "figure_dpi = 300\n",
    "\n",
    "for ext in ['png', 'pdf']:\n",
    "    fig.savefig(os.path.join(fig_dir, f'suppfig_confusion_{plot_key}.{ext}'), \n",
    "                transparent=True, bbox_inches='tight', dpi=figure_dpi)\n",
    "    fig.savefig(os.path.join(fig_dir, f'suppfig_confusion_{plot_key}_white.{ext}'), \n",
    "                transparent=False, bbox_inches='tight', dpi=figure_dpi)"
   ]
  },
  {
   "cell_type": "code",
   "execution_count": null,
   "metadata": {},
   "outputs": [],
   "source": []
  }
 ],
 "metadata": {
  "kernelspec": {
   "display_name": "gentz",
   "language": "python",
   "name": "gentz"
  },
  "language_info": {
   "codemirror_mode": {
    "name": "ipython",
    "version": 3
   },
   "file_extension": ".py",
   "mimetype": "text/x-python",
   "name": "python",
   "nbconvert_exporter": "python",
   "pygments_lexer": "ipython3",
   "version": "3.6.6"
  }
 },
 "nbformat": 4,
 "nbformat_minor": 4
}
