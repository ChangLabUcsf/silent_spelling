{
 "cells": [
  {
   "cell_type": "markdown",
   "metadata": {},
   "source": [
    "# Figure S1 - Data collection timeline"
   ]
  },
  {
   "cell_type": "code",
   "execution_count": null,
   "metadata": {},
   "outputs": [],
   "source": [
    "# Imports\n",
    "import os\n",
    "import numpy as np\n",
    "import pandas as pd\n",
    "import matplotlib as mpl\n",
    "import matplotlib.pyplot as plt\n",
    "import seaborn as sns\n",
    "\n",
    "from RT import fileHandler, tools\n",
    "from spl_ppr.utils import plotting_defaults\n",
    "\n",
    "plotting_defaults(font='Arial')\n",
    "%matplotlib inline"
   ]
  },
  {
   "cell_type": "code",
   "execution_count": null,
   "metadata": {},
   "outputs": [],
   "source": [
    "# Figure directory\n",
    "fig_dir = 'saved_figures'\n",
    "\n",
    "# Parameters\n",
    "result_label   = 'spelling_paper_signal_analyses'\n",
    "sub_result_num = 60\n",
    "\n",
    "# Loads the analysis result data\n",
    "analysis_result_file_path = fileHandler.getSubResultFilePath(\n",
    "    sub_dir_key='analysis', extension='.h5', result_label=result_label,\n",
    "    sub_result_num=sub_result_num\n",
    ")\n",
    "with pd.HDFStore(analysis_result_file_path, 'r') as f:\n",
    "    data_timeline = f['data']"
   ]
  },
  {
   "cell_type": "code",
   "execution_count": null,
   "metadata": {},
   "outputs": [],
   "source": [
    "colors = sns.color_palette('Set2', 8)\n",
    "\n",
    "# Parameters\n",
    "x_ticks       = np.linspace(20, 130, 12)\n",
    "y_ticks       = np.linspace(0, 1250, 6)\n",
    "bar_width     = 0.2\n",
    "subset_params = {\n",
    "    'alphabet1_1_mimed'        : dict(color=colors[7], linewidth=0., hatch=None),\n",
    "    'alphabet1_2_mimed'        : dict(color=colors[1], linewidth=0., hatch=None),\n",
    "    'alphabet1_2_overt'        : dict(color=colors[2], linewidth=0., hatch=None),\n",
    "    'copy_typing_optimization' : dict(color=colors[3], linewidth=0., hatch=None),\n",
    "    'copy_typing_testing'      : dict(color=colors[5], linewidth=0., hatch=None),\n",
    "    'conversational_testing'   : dict(color=colors[0], linewidth=0., hatch=None),\n",
    "}\n",
    "legend_label_updates = {\n",
    "    'alphabet1_1_mimed'        : 'Isolated-target; English letters',\n",
    "    'alphabet1_2_mimed'        : 'Isolated-target; NATO code words',\n",
    "    'alphabet1_2_overt'        : 'Isolated-target; NATO code words (overt)',\n",
    "    'copy_typing_optimization' : 'Real-time spelling; Copy-typing; Optimization',\n",
    "    'copy_typing_testing'      : 'Real-time spelling; Copy-typing; Evaluation',\n",
    "    'conversational_testing'   : 'Real-time spelling; Conversational; Evaluation',\n",
    "}\n",
    "new_label_order   = [\n",
    "    'alphabet1_2_mimed', 'alphabet1_2_overt', 'alphabet1_1_mimed',\n",
    "    'copy_typing_optimization', 'copy_typing_testing', 'conversational_testing'\n",
    "]\n",
    "tick_label_params = dict(fontdict=dict(fontsize='xx-large'))\n",
    "axis_label_params = dict(fontdict=dict(fontsize='xx-large'))\n",
    "grid_params = {\n",
    "    \"color\"     : [0.6, 0.6, 0.6],\n",
    "    \"linestyle\" : \"-\",\n",
    "    \"axis\"      : \"y\",\n",
    "    \"linewidth\" : 0.4,\n",
    "    \"zorder\"    : -3.,\n",
    "    \"clip_on\"   : False\n",
    "}\n",
    "figure_dpi = 300.0\n",
    "\n",
    "# Checks the data range\n",
    "x_inds = sorted(set(data_timeline['weeks_post_implantation']))\n",
    "assert x_ticks[0] <= np.min(x_inds)\n",
    "assert np.max(x_inds) <= x_ticks[-1]\n",
    "\n",
    "# Creates the dictionary containing the trial counts for each subset\n",
    "all_counts = {cur_subset: np.zeros(shape=(len(x_inds),), dtype=np.uint16) for cur_subset in subset_params.keys()}\n",
    "\n",
    "# Initializes the array that will track the total heights of the stacked bars currently on the plot\n",
    "cur_stacked_counts = next(iter(all_counts.values())).copy()\n",
    "\n",
    "# Computes the trial counts for each data subset across the duration of recording\n",
    "for cur_row in data_timeline.itertuples():\n",
    "    all_counts[cur_row.block_type][x_inds.index(cur_row.weeks_post_implantation)] += cur_row.num_trials\n",
    "    \n",
    "fig, ax = plt.subplots(figsize=(15, 8), dpi=figure_dpi)\n",
    "\n",
    "# Iterates through the subsets and plots the counts\n",
    "for cur_subset, cur_bar_params in subset_params.items():\n",
    "    cur_counts = all_counts[cur_subset]\n",
    "    ax.bar(x=x_inds, height=cur_counts, width=bar_width, bottom=cur_stacked_counts, label=cur_subset, **cur_bar_params)\n",
    "    cur_stacked_counts += cur_counts\n",
    "    \n",
    "# Plot formatting\n",
    "ax.axes.set(xlim=(x_ticks[0] - 1, x_ticks[-1] + 1), ylim=(y_ticks[0], y_ticks[-1]), \n",
    "            xticks=x_ticks, yticks=y_ticks)\n",
    "ax.set_xticklabels([f'{t:0.0f}' for t in x_ticks], **tick_label_params)\n",
    "ax.set_yticklabels([f'{t:0.0f}' for t in y_ticks], **tick_label_params)\n",
    "ax.set_xlabel('Weeks post-implantation', labelpad=15.0, **axis_label_params)\n",
    "ax.set_ylabel('Number of trials collected', labelpad=15.0, **axis_label_params)\n",
    "\n",
    "ax.grid(**grid_params)\n",
    "\n",
    "# Plot legend\n",
    "new_handles = []\n",
    "new_labels  = []\n",
    "\n",
    "for cur_handle, cur_label in zip(*ax.get_legend_handles_labels()):\n",
    "    try:\n",
    "        cur_new_label = legend_label_updates[cur_label]\n",
    "    except KeyError:\n",
    "        pass\n",
    "    else:\n",
    "        new_handles.append(cur_handle)\n",
    "        new_labels.append(cur_new_label)\n",
    "\n",
    "label_ordering = [new_labels.index(legend_label_updates[i]) for i in new_label_order]\n",
    "ordered_handles = [new_handles[i] for i in label_ordering]\n",
    "ordered_labels  = [new_labels[i] for i in label_ordering]\n",
    "legend = ax.legend(ordered_handles, ordered_labels, loc='upper left', ncol=2, fontsize='large')\n",
    "legend.get_title().set_fontsize('x-large');"
   ]
  },
  {
   "cell_type": "markdown",
   "metadata": {},
   "source": [
    "## Save figure"
   ]
  },
  {
   "cell_type": "code",
   "execution_count": null,
   "metadata": {},
   "outputs": [],
   "source": [
    "fig.savefig(os.path.join(fig_dir, 'suppfig_data_collection.pdf'), transparent=True, bbox_inches='tight', dpi=figure_dpi)\n",
    "fig.savefig(os.path.join(fig_dir, 'suppfig_data_collection_white.pdf'), transparent=False, bbox_inches='tight', dpi=figure_dpi)"
   ]
  },
  {
   "cell_type": "markdown",
   "metadata": {},
   "source": [
    "## Print collected data amounts"
   ]
  },
  {
   "cell_type": "code",
   "execution_count": null,
   "metadata": {},
   "outputs": [],
   "source": [
    "# Displays additional information about the collected data\n",
    "task_summary_data = {\n",
    "    k : {\n",
    "        'num_blocks'     : 0,\n",
    "        'num_trials'     : 0,\n",
    "        'duration_hours' : 0.,\n",
    "        'session_dates'  : set(),\n",
    "        'num_dates'      : 0,\n",
    "    }\n",
    "    for k in set(data_timeline['block_type'])\n",
    "}\n",
    "\n",
    "for cur_block_data in data_timeline.itertuples():\n",
    "    cur_block_type_data = task_summary_data[cur_block_data.block_type]\n",
    "    cur_block_type_data['num_blocks']     += 1\n",
    "    cur_block_type_data['num_trials']     += cur_block_data.num_trials\n",
    "    cur_block_type_data['duration_hours'] += (cur_block_data.duration_sec / 3600.)\n",
    "    cur_block_type_data['session_dates'].update([cur_block_data.date])\n",
    "    cur_block_type_data['num_dates'] = len(cur_block_type_data['session_dates'])\n",
    "    \n",
    "task_summary_data['average_duration_per_session_minutes'] = (\n",
    "    (np.sum([v['duration_hours'] for v in task_summary_data.values()]) / np.sum([v['num_dates'] for v in task_summary_data.values()])) * 60.\n",
    ")\n",
    "\n",
    "tools.displayDictionaryStructure(\n",
    "    task_summary_data, display_repr=True, cur_name='Task summary information:', keys_to_skip=['session_dates']\n",
    ")"
   ]
  },
  {
   "cell_type": "code",
   "execution_count": null,
   "metadata": {},
   "outputs": [],
   "source": []
  }
 ],
 "metadata": {
  "kernelspec": {
   "display_name": "gentz",
   "language": "python",
   "name": "gentz"
  },
  "language_info": {
   "codemirror_mode": {
    "name": "ipython",
    "version": 3
   },
   "file_extension": ".py",
   "mimetype": "text/x-python",
   "name": "python",
   "nbconvert_exporter": "python",
   "pygments_lexer": "ipython3",
   "version": "3.6.6"
  }
 },
 "nbformat": 4,
 "nbformat_minor": 4
}
